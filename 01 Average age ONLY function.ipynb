{
 "cells": [
  {
   "cell_type": "code",
   "execution_count": 1,
   "metadata": {},
   "outputs": [],
   "source": [
    "import pandas as pd\n",
    "import requests\n",
    "from bs4 import BeautifulSoup\n",
    "import matplotlib.pyplot as plt\n",
    "import re"
   ]
  },
  {
   "cell_type": "code",
   "execution_count": 2,
   "metadata": {},
   "outputs": [],
   "source": [
    "def averageage(inputlink, adjective):\n",
    "    response = requests.get(inputlink)\n",
    "    footballsoup = BeautifulSoup(response.text, \"html.parser\")\n",
    "    playertable = footballsoup.find(\"table\",{\"class\":\"sortable wikitable plainrowheaders\"})\n",
    "    playerdf = pd.read_html(str(playertable))\n",
    "    playerdf = pd.DataFrame(playerdf[0])\n",
    "    playerdata = playerdf.drop([\"No.\",\"Pos.\",\"Caps\",\"Goals\"], axis=1) #clean\n",
    "    playerdata.rename(columns = {\"Date of birth (age)\":\"Age\"}, inplace=True)\n",
    "    playerdata = playerdata.dropna()\n",
    "    playerdata[\"Age\"] = playerdata[\"Age\"].str.replace(\"[(\\[]age\\s\", \"\",regex=True)\n",
    "    playerdata[\"Age\"] = playerdata[\"Age\"].str.replace(\"[)\\[]\", \"\",regex=True)\n",
    "    age_information = pd.DataFrame(playerdata[\"Age\"].value_counts())\n",
    "    barcharttitle = \"Bar Chart of ages of \" + adjective + \"football players of 2021\"\n",
    "    age_information.plot(kind=\"bar\", color=\"red\", title=barcharttitle)\n",
    "    plt.show()\n",
    "    averageage = playerdata['Age'].tolist()\n",
    "    AA = [int(x) for x in averageage]\n",
    "    AA = sum(AA) / len(AA)\n",
    "    fAA = round(AA, 2)\n",
    "    print(\"The average age of the\", adjective, \"Men's National Football Team is \", fAA,\".\")"
   ]
  },
  {
   "cell_type": "code",
   "execution_count": null,
   "metadata": {},
   "outputs": [],
   "source": []
  }
 ],
 "metadata": {
  "kernelspec": {
   "display_name": "Python 3",
   "language": "python",
   "name": "python3"
  },
  "language_info": {
   "codemirror_mode": {
    "name": "ipython",
    "version": 3
   },
   "file_extension": ".py",
   "mimetype": "text/x-python",
   "name": "python",
   "nbconvert_exporter": "python",
   "pygments_lexer": "ipython3",
   "version": "3.8.5"
  }
 },
 "nbformat": 4,
 "nbformat_minor": 4
}
